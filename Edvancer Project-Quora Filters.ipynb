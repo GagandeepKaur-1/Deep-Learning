{
  "nbformat": 4,
  "nbformat_minor": 0,
  "metadata": {
    "accelerator": "GPU",
    "colab": {
      "name": "Copy of Project3-Colab.ipynb",
      "provenance": [],
      "collapsed_sections": []
    },
    "kernelspec": {
      "display_name": "Python 3",
      "name": "python3"
    }
  },
  "cells": [
    {
      "cell_type": "code",
      "metadata": {
        "colab": {
          "base_uri": "https://localhost:8080/"
        },
        "id": "izH5fsWzArOP",
        "outputId": "5e4947ea-7a5f-4c9e-eca5-cddd2071cd00"
      },
      "source": [
        "!wget https://www.dropbox.com/sh/kpf9z73woodfssv/AAAw1_JIzpuVvwteJCma0xMla?dl=0"
      ],
      "execution_count": null,
      "outputs": [
        {
          "output_type": "stream",
          "text": [
            "--2021-03-04 13:46:26--  https://www.dropbox.com/sh/kpf9z73woodfssv/AAAw1_JIzpuVvwteJCma0xMla?dl=0\n",
            "Resolving www.dropbox.com (www.dropbox.com)... 162.125.6.18, 2620:100:601c:18::a27d:612\n",
            "Connecting to www.dropbox.com (www.dropbox.com)|162.125.6.18|:443... connected.\n",
            "HTTP request sent, awaiting response... 301 Moved Permanently\n",
            "Location: /sh/raw/kpf9z73woodfssv/AAAw1_JIzpuVvwteJCma0xMla [following]\n",
            "--2021-03-04 13:46:27--  https://www.dropbox.com/sh/raw/kpf9z73woodfssv/AAAw1_JIzpuVvwteJCma0xMla\n",
            "Reusing existing connection to www.dropbox.com:443.\n",
            "HTTP request sent, awaiting response... 302 Found\n",
            "Location: https://uc6cf1d4003c5b171b8d2cb0c29a.dl.dropboxusercontent.com/zip_download_get/Ate47Ht2jxjCFYhbkCKI6YQzLKWWBfkSD8RKpKozX1cTb615aPAz4VyAgd8BHo09eoKQRqrM6l0oWUR4ZcN-x0L4S1B8kZSZWb2vWqitujDLgA [following]\n",
            "--2021-03-04 13:46:27--  https://uc6cf1d4003c5b171b8d2cb0c29a.dl.dropboxusercontent.com/zip_download_get/Ate47Ht2jxjCFYhbkCKI6YQzLKWWBfkSD8RKpKozX1cTb615aPAz4VyAgd8BHo09eoKQRqrM6l0oWUR4ZcN-x0L4S1B8kZSZWb2vWqitujDLgA\n",
            "Resolving uc6cf1d4003c5b171b8d2cb0c29a.dl.dropboxusercontent.com (uc6cf1d4003c5b171b8d2cb0c29a.dl.dropboxusercontent.com)... 162.125.6.15, 2620:100:601c:15::a27d:60f\n",
            "Connecting to uc6cf1d4003c5b171b8d2cb0c29a.dl.dropboxusercontent.com (uc6cf1d4003c5b171b8d2cb0c29a.dl.dropboxusercontent.com)|162.125.6.15|:443... connected.\n",
            "HTTP request sent, awaiting response... 200 OK\n",
            "Length: 124206982 (118M) [application/zip]\n",
            "Saving to: ‘AAAw1_JIzpuVvwteJCma0xMla?dl=0’\n",
            "\n",
            "AAAw1_JIzpuVvwteJCm 100%[===================>] 118.45M   128MB/s    in 0.9s    \n",
            "\n",
            "2021-03-04 13:46:29 (128 MB/s) - ‘AAAw1_JIzpuVvwteJCma0xMla?dl=0’ saved [124206982/124206982]\n",
            "\n"
          ],
          "name": "stdout"
        }
      ]
    },
    {
      "cell_type": "code",
      "metadata": {
        "colab": {
          "base_uri": "https://localhost:8080/"
        },
        "id": "GIMRmoqvNPt-",
        "outputId": "911ebb0f-7ce4-4302-ac38-2e7dc8e44c2f"
      },
      "source": [
        "!unzip /content/AAAw1_JIzpuVvwteJCma0xMla?dl=0"
      ],
      "execution_count": null,
      "outputs": [
        {
          "output_type": "stream",
          "text": [
            "Archive:  /content/AAAw1_JIzpuVvwteJCma0xMla?dl=0\n",
            "warning:  stripped absolute path spec from /\n",
            "mapname:  conversion of  failed\n",
            " extracting: train.csv               \n",
            "\n",
            "1 archive had fatal errors.\n"
          ],
          "name": "stdout"
        }
      ]
    },
    {
      "cell_type": "code",
      "metadata": {
        "id": "ASzx8DOJNbW0"
      },
      "source": [
        "import pandas as pd\r\n",
        "import numpy as np\r\n"
      ],
      "execution_count": null,
      "outputs": []
    },
    {
      "cell_type": "code",
      "metadata": {
        "id": "zhWuQhJiNoGB"
      },
      "source": [
        "data=pd.read_csv(r\"/content/train.csv\")"
      ],
      "execution_count": null,
      "outputs": []
    },
    {
      "cell_type": "code",
      "metadata": {
        "colab": {
          "base_uri": "https://localhost:8080/"
        },
        "id": "3t8g7cDgNzQq",
        "outputId": "68ff1e4e-621f-4c41-9318-a020ae8a9982"
      },
      "source": [
        "data.head"
      ],
      "execution_count": null,
      "outputs": [
        {
          "output_type": "execute_result",
          "data": {
            "text/plain": [
              "<bound method NDFrame.head of                           qid  ... target\n",
              "0        00002165364db923c7e6  ...      0\n",
              "1        000032939017120e6e44  ...      0\n",
              "2        0000412ca6e4628ce2cf  ...      0\n",
              "3        000042bf85aa498cd78e  ...      0\n",
              "4        0000455dfa3e01eae3af  ...      0\n",
              "...                       ...  ...    ...\n",
              "1306117  ffffcc4e2331aaf1e41e  ...      0\n",
              "1306118  ffffd431801e5a2f4861  ...      0\n",
              "1306119  ffffd48fb36b63db010c  ...      0\n",
              "1306120  ffffec519fa37cf60c78  ...      0\n",
              "1306121  ffffed09fedb5088744a  ...      0\n",
              "\n",
              "[1306122 rows x 3 columns]>"
            ]
          },
          "metadata": {
            "tags": []
          },
          "execution_count": 16
        }
      ]
    },
    {
      "cell_type": "code",
      "metadata": {
        "id": "x8BzDbIMN2iO"
      },
      "source": [
        "data.drop(\"qid\",axis=1,inplace=True)"
      ],
      "execution_count": null,
      "outputs": []
    },
    {
      "cell_type": "code",
      "metadata": {
        "colab": {
          "base_uri": "https://localhost:8080/"
        },
        "id": "O_Ap7siKOOqm",
        "outputId": "425b598a-20c0-493c-c098-cfb8ba141150"
      },
      "source": [
        "data.head"
      ],
      "execution_count": null,
      "outputs": [
        {
          "output_type": "execute_result",
          "data": {
            "text/plain": [
              "<bound method NDFrame.head of                                              question_text  target\n",
              "0        How did Quebec nationalists see their province...       0\n",
              "1        Do you have an adopted dog, how would you enco...       0\n",
              "2        Why does velocity affect time? Does velocity a...       0\n",
              "3        How did Otto von Guericke used the Magdeburg h...       0\n",
              "4        Can I convert montra helicon D to a mountain b...       0\n",
              "...                                                    ...     ...\n",
              "1306117  What other technical skills do you need as a c...       0\n",
              "1306118  Does MS in ECE have good job prospects in USA ...       0\n",
              "1306119                          Is foam insulation toxic?       0\n",
              "1306120  How can one start a research project based on ...       0\n",
              "1306121  Who wins in a battle between a Wolverine and a...       0\n",
              "\n",
              "[1306122 rows x 2 columns]>"
            ]
          },
          "metadata": {
            "tags": []
          },
          "execution_count": 6
        }
      ]
    },
    {
      "cell_type": "code",
      "metadata": {
        "colab": {
          "base_uri": "https://localhost:8080/"
        },
        "id": "R15QvgunOQKu",
        "outputId": "c4784c15-03a2-4e68-f544-a3af46bc8357"
      },
      "source": [
        "!wget http://nlp.stanford.edu/data/glove.42B.300d.zip"
      ],
      "execution_count": null,
      "outputs": [
        {
          "output_type": "stream",
          "text": [
            "--2021-03-04 13:48:45--  http://nlp.stanford.edu/data/glove.42B.300d.zip\n",
            "Resolving nlp.stanford.edu (nlp.stanford.edu)... 171.64.67.140\n",
            "Connecting to nlp.stanford.edu (nlp.stanford.edu)|171.64.67.140|:80... connected.\n",
            "HTTP request sent, awaiting response... 302 Found\n",
            "Location: https://nlp.stanford.edu/data/glove.42B.300d.zip [following]\n",
            "--2021-03-04 13:48:45--  https://nlp.stanford.edu/data/glove.42B.300d.zip\n",
            "Connecting to nlp.stanford.edu (nlp.stanford.edu)|171.64.67.140|:443... connected.\n",
            "HTTP request sent, awaiting response... 301 Moved Permanently\n",
            "Location: http://downloads.cs.stanford.edu/nlp/data/glove.42B.300d.zip [following]\n",
            "--2021-03-04 13:48:46--  http://downloads.cs.stanford.edu/nlp/data/glove.42B.300d.zip\n",
            "Resolving downloads.cs.stanford.edu (downloads.cs.stanford.edu)... 171.64.64.22\n",
            "Connecting to downloads.cs.stanford.edu (downloads.cs.stanford.edu)|171.64.64.22|:80... connected.\n",
            "HTTP request sent, awaiting response... 200 OK\n",
            "Length: 1877800501 (1.7G) [application/zip]\n",
            "Saving to: ‘glove.42B.300d.zip’\n",
            "\n",
            "glove.42B.300d.zip  100%[===================>]   1.75G  2.10MB/s    in 15m 2s  \n",
            "\n",
            "2021-03-04 14:03:48 (1.99 MB/s) - ‘glove.42B.300d.zip’ saved [1877800501/1877800501]\n",
            "\n"
          ],
          "name": "stdout"
        }
      ]
    },
    {
      "cell_type": "code",
      "metadata": {
        "id": "Me_M3Qt6kEs9"
      },
      "source": [
        "import tensorflow as tf"
      ],
      "execution_count": null,
      "outputs": []
    },
    {
      "cell_type": "code",
      "metadata": {
        "colab": {
          "background_save": true,
          "base_uri": "https://localhost:8080/"
        },
        "id": "xmZeN7nGOZAN",
        "outputId": "d0cdf4b7-44e7-4a00-94fa-6dda87607f87"
      },
      "source": [
        "with tf.device('/device:GPU:0'):\r\n",
        "    !unzip /content/glove.42B.300d.zip"
      ],
      "execution_count": null,
      "outputs": [
        {
          "output_type": "stream",
          "text": [
            "Archive:  /content/glove.42B.300d.zip\n",
            "replace glove.42B.300d.txt? [y]es, [n]o, [A]ll, [N]one, [r]ename: y\n",
            "  inflating: glove.42B.300d.txt      y\n",
            "\n"
          ],
          "name": "stdout"
        }
      ]
    },
    {
      "cell_type": "code",
      "metadata": {
        "id": "CSO4C2dvUITW"
      },
      "source": [
        "!rm /content/glove.42B.300d.zip"
      ],
      "execution_count": null,
      "outputs": []
    },
    {
      "cell_type": "code",
      "metadata": {
        "id": "HtI1eSnYUaAb"
      },
      "source": [
        "from sklearn.model_selection import train_test_split"
      ],
      "execution_count": null,
      "outputs": []
    },
    {
      "cell_type": "code",
      "metadata": {
        "id": "-GU1QlirU9mL"
      },
      "source": [
        "x_train1,x_test1=train_test_split(data,test_size=0.35)"
      ],
      "execution_count": null,
      "outputs": []
    },
    {
      "cell_type": "code",
      "metadata": {
        "id": "pJ2CNdVqlsWY"
      },
      "source": [
        "embeding_index={}\r\n",
        "\r\n",
        "f=open('glove.42B.300d.txt',encoding='utf-8',errors=\"ignore\")\r\n",
        "\r\n",
        "for line in f:\r\n",
        "    values=line.split()\r\n",
        "    word=values[0]\r\n",
        "    coefs=np.asarray(values[1:],dtype='float32')\r\n",
        "    embeding_index[word]=coefs\r\n",
        "f.close()"
      ],
      "execution_count": null,
      "outputs": []
    },
    {
      "cell_type": "code",
      "metadata": {
        "id": "R6jdlERQmEyn"
      },
      "source": [
        "x_train=x_train1['question_text']\r\n",
        "y_train=x_train1['target']\r\n",
        "x_test=x_test1['question_text']\r\n",
        "y_test=x_test1['target']"
      ],
      "execution_count": null,
      "outputs": []
    },
    {
      "cell_type": "code",
      "metadata": {
        "colab": {
          "base_uri": "https://localhost:8080/"
        },
        "id": "Y73it5MXmE84",
        "outputId": "5b9890ea-4f28-4150-b65f-a9697d340e66"
      },
      "source": [
        "from nltk import word_tokenize\r\n",
        "import nltk\r\n",
        "nltk.download('punkt')"
      ],
      "execution_count": null,
      "outputs": [
        {
          "output_type": "stream",
          "text": [
            "[nltk_data] Downloading package punkt to /root/nltk_data...\n",
            "[nltk_data]   Package punkt is already up-to-date!\n"
          ],
          "name": "stdout"
        },
        {
          "output_type": "execute_result",
          "data": {
            "text/plain": [
              "True"
            ]
          },
          "metadata": {
            "tags": []
          },
          "execution_count": 33
        }
      ]
    },
    {
      "cell_type": "code",
      "metadata": {
        "id": "pRNLAf_wnR4e"
      },
      "source": [
        "from tensorflow.keras.preprocessing.text import Tokenizer\r\n",
        "from tensorflow.keras.preprocessing import sequence\r\n",
        "from tensorflow.keras.layers import LSTM, Activation, Dense, Dropout, Input, Embedding\r\n",
        "from tensorflow.keras.models import Model"
      ],
      "execution_count": null,
      "outputs": []
    },
    {
      "cell_type": "code",
      "metadata": {
        "id": "QT3wSfLnmFGb"
      },
      "source": [
        "sent_lens=[len(word_tokenize(x)) for x in x_train]"
      ],
      "execution_count": null,
      "outputs": []
    },
    {
      "cell_type": "code",
      "metadata": {
        "colab": {
          "base_uri": "https://localhost:8080/"
        },
        "id": "ML9izJ3WmZz3",
        "outputId": "c2e1b509-51ce-4886-805c-1363aecec2a0"
      },
      "source": [
        "np.percentile(sent_lens,95)"
      ],
      "execution_count": null,
      "outputs": [
        {
          "output_type": "execute_result",
          "data": {
            "text/plain": [
              "30.0"
            ]
          },
          "metadata": {
            "tags": []
          },
          "execution_count": 37
        }
      ]
    },
    {
      "cell_type": "code",
      "metadata": {
        "id": "S0xEElSjme0A"
      },
      "source": [
        "max_len=30\r\n",
        "\r\n",
        "tk=Tokenizer(char_level=False,split=' ')\r\n",
        "\r\n",
        "tk.fit_on_texts(x_train)\r\n",
        "\r\n",
        "seq_train=tk.texts_to_sequences(x_train)\r\n",
        "seq_test=tk.texts_to_sequences(x_test)\r\n",
        "\r\n",
        "vocab_size=len(tk.word_index)\r\n",
        "\r\n",
        "seq_train_matrix=sequence.pad_sequences(seq_train,maxlen=max_len)\r\n",
        "seq_test_matrix=sequence.pad_sequences(seq_test,maxlen=max_len)"
      ],
      "execution_count": null,
      "outputs": []
    },
    {
      "cell_type": "code",
      "metadata": {
        "id": "sljLsKm9WXRf"
      },
      "source": [
        "embedding_matrix=np.zeros((vocab_size+1,300))\r\n",
        "words_not_available=0\r\n",
        "for word,i in tk.word_index.items():\r\n",
        "    embed_vector=embeding_index.get(word)\r\n",
        "    if embed_vector is not None:\r\n",
        "        embedding_matrix[i]=embed_vector\r\n",
        "    else:\r\n",
        "      words_not_available+=1"
      ],
      "execution_count": null,
      "outputs": []
    },
    {
      "cell_type": "code",
      "metadata": {
        "colab": {
          "base_uri": "https://localhost:8080/"
        },
        "id": "CkaHadXGo5_d",
        "outputId": "1796c885-8eda-4e82-c1f7-f84c0c08ea49"
      },
      "source": [
        "words_not_available"
      ],
      "execution_count": null,
      "outputs": [
        {
          "output_type": "execute_result",
          "data": {
            "text/plain": [
              "52127"
            ]
          },
          "metadata": {
            "tags": []
          },
          "execution_count": 40
        }
      ]
    },
    {
      "cell_type": "code",
      "metadata": {
        "colab": {
          "base_uri": "https://localhost:8080/"
        },
        "id": "KVm3aW0Zo6E8",
        "outputId": "2defab26-f532-4e76-d06e-e532465e10cd"
      },
      "source": [
        "vocab_size"
      ],
      "execution_count": null,
      "outputs": [
        {
          "output_type": "execute_result",
          "data": {
            "text/plain": [
              "174895"
            ]
          },
          "metadata": {
            "tags": []
          },
          "execution_count": 41
        }
      ]
    },
    {
      "cell_type": "code",
      "metadata": {
        "id": "w3kpUggOo6JN"
      },
      "source": [
        "\r\n",
        "inputs=Input(name='text_input',shape=[max_len])\r\n",
        "embed=Embedding(vocab_size+1,300,input_length=max_len,mask_zero=True,\r\n",
        "                weights=[embedding_matrix],trainable=False)(inputs)\r\n",
        "lstm_layer=LSTM(50)(embed)\r\n",
        "dense1=Dense(10,activation='relu')(lstm_layer)\r\n",
        "drop=Dropout(0.2)(dense1)\r\n",
        "final_layer=Dense(1,activation='sigmoid')(drop)\r\n",
        "\r\n",
        "model=Model(inputs=inputs,outputs=final_layer)"
      ],
      "execution_count": null,
      "outputs": []
    },
    {
      "cell_type": "code",
      "metadata": {
        "colab": {
          "base_uri": "https://localhost:8080/"
        },
        "id": "DcAblmhjo6NP",
        "outputId": "40ba3212-27e6-4b2c-9aef-17fbfc37137b"
      },
      "source": [
        "model.summary()"
      ],
      "execution_count": null,
      "outputs": [
        {
          "output_type": "stream",
          "text": [
            "Model: \"model\"\n",
            "_________________________________________________________________\n",
            "Layer (type)                 Output Shape              Param #   \n",
            "=================================================================\n",
            "text_input (InputLayer)      [(None, 30)]              0         \n",
            "_________________________________________________________________\n",
            "embedding (Embedding)        (None, 30, 300)           52468800  \n",
            "_________________________________________________________________\n",
            "lstm (LSTM)                  (None, 50)                70200     \n",
            "_________________________________________________________________\n",
            "dense (Dense)                (None, 10)                510       \n",
            "_________________________________________________________________\n",
            "dropout (Dropout)            (None, 10)                0         \n",
            "_________________________________________________________________\n",
            "dense_1 (Dense)              (None, 1)                 11        \n",
            "=================================================================\n",
            "Total params: 52,539,521\n",
            "Trainable params: 70,721\n",
            "Non-trainable params: 52,468,800\n",
            "_________________________________________________________________\n"
          ],
          "name": "stdout"
        }
      ]
    },
    {
      "cell_type": "code",
      "metadata": {
        "id": "y-UyqoRYpk-2"
      },
      "source": [
        "model.compile(optimizer='adam',loss='binary_crossentropy',metrics=['accuracy'])"
      ],
      "execution_count": null,
      "outputs": []
    },
    {
      "cell_type": "code",
      "metadata": {
        "colab": {
          "base_uri": "https://localhost:8080/"
        },
        "id": "2SqA2wsppwP6",
        "outputId": "6754a3ee-bcd8-4c68-afe8-13c62af93839"
      },
      "source": [
        "model.fit(seq_train_matrix,y_train.values,validation_data=(seq_test_matrix,y_test.values),epochs=40,batch_size=30000)"
      ],
      "execution_count": null,
      "outputs": [
        {
          "output_type": "stream",
          "text": [
            "Epoch 1/40\n",
            "29/29 [==============================] - 29s 742ms/step - loss: 0.5508 - accuracy: 0.6802 - val_loss: 0.2334 - val_accuracy: 0.9381\n",
            "Epoch 2/40\n",
            "29/29 [==============================] - 20s 710ms/step - loss: 0.3019 - accuracy: 0.9379 - val_loss: 0.2165 - val_accuracy: 0.9381\n",
            "Epoch 3/40\n",
            "29/29 [==============================] - 20s 706ms/step - loss: 0.2668 - accuracy: 0.9374 - val_loss: 0.1937 - val_accuracy: 0.9381\n",
            "Epoch 4/40\n",
            "29/29 [==============================] - 20s 706ms/step - loss: 0.2285 - accuracy: 0.9377 - val_loss: 0.1553 - val_accuracy: 0.9381\n",
            "Epoch 5/40\n",
            "29/29 [==============================] - 20s 706ms/step - loss: 0.1883 - accuracy: 0.9365 - val_loss: 0.1374 - val_accuracy: 0.9437\n",
            "Epoch 6/40\n",
            "29/29 [==============================] - 20s 709ms/step - loss: 0.1709 - accuracy: 0.9426 - val_loss: 0.1303 - val_accuracy: 0.9501\n",
            "Epoch 7/40\n",
            "29/29 [==============================] - 20s 708ms/step - loss: 0.1613 - accuracy: 0.9460 - val_loss: 0.1268 - val_accuracy: 0.9510\n",
            "Epoch 8/40\n",
            "29/29 [==============================] - 20s 706ms/step - loss: 0.1573 - accuracy: 0.9479 - val_loss: 0.1246 - val_accuracy: 0.9517\n",
            "Epoch 9/40\n",
            "29/29 [==============================] - 20s 705ms/step - loss: 0.1496 - accuracy: 0.9500 - val_loss: 0.1235 - val_accuracy: 0.9519\n",
            "Epoch 10/40\n",
            "29/29 [==============================] - 20s 705ms/step - loss: 0.1377 - accuracy: 0.9502 - val_loss: 0.1227 - val_accuracy: 0.9518\n",
            "Epoch 11/40\n",
            "29/29 [==============================] - 20s 705ms/step - loss: 0.1327 - accuracy: 0.9514 - val_loss: 0.1220 - val_accuracy: 0.9528\n",
            "Epoch 12/40\n",
            "29/29 [==============================] - 20s 704ms/step - loss: 0.1315 - accuracy: 0.9519 - val_loss: 0.1198 - val_accuracy: 0.9532\n",
            "Epoch 13/40\n",
            "29/29 [==============================] - 20s 706ms/step - loss: 0.1294 - accuracy: 0.9525 - val_loss: 0.1189 - val_accuracy: 0.9536\n",
            "Epoch 14/40\n",
            "29/29 [==============================] - 20s 705ms/step - loss: 0.1277 - accuracy: 0.9535 - val_loss: 0.1181 - val_accuracy: 0.9542\n",
            "Epoch 15/40\n",
            "29/29 [==============================] - 20s 704ms/step - loss: 0.1260 - accuracy: 0.9536 - val_loss: 0.1174 - val_accuracy: 0.9546\n",
            "Epoch 16/40\n",
            "29/29 [==============================] - 20s 704ms/step - loss: 0.1253 - accuracy: 0.9542 - val_loss: 0.1161 - val_accuracy: 0.9548\n",
            "Epoch 17/40\n",
            "29/29 [==============================] - 20s 703ms/step - loss: 0.1244 - accuracy: 0.9546 - val_loss: 0.1157 - val_accuracy: 0.9552\n",
            "Epoch 18/40\n",
            "29/29 [==============================] - 20s 704ms/step - loss: 0.1229 - accuracy: 0.9547 - val_loss: 0.1143 - val_accuracy: 0.9555\n",
            "Epoch 19/40\n",
            "29/29 [==============================] - 20s 704ms/step - loss: 0.1218 - accuracy: 0.9554 - val_loss: 0.1144 - val_accuracy: 0.9556\n",
            "Epoch 20/40\n",
            "29/29 [==============================] - 20s 704ms/step - loss: 0.1212 - accuracy: 0.9557 - val_loss: 0.1147 - val_accuracy: 0.9557\n",
            "Epoch 21/40\n",
            "29/29 [==============================] - 20s 704ms/step - loss: 0.1197 - accuracy: 0.9559 - val_loss: 0.1143 - val_accuracy: 0.9554\n",
            "Epoch 22/40\n",
            "29/29 [==============================] - 20s 703ms/step - loss: 0.1212 - accuracy: 0.9555 - val_loss: 0.1125 - val_accuracy: 0.9562\n",
            "Epoch 23/40\n",
            "29/29 [==============================] - 20s 704ms/step - loss: 0.1177 - accuracy: 0.9571 - val_loss: 0.1128 - val_accuracy: 0.9562\n",
            "Epoch 24/40\n",
            "29/29 [==============================] - 20s 705ms/step - loss: 0.1173 - accuracy: 0.9568 - val_loss: 0.1124 - val_accuracy: 0.9558\n",
            "Epoch 25/40\n",
            "29/29 [==============================] - 20s 704ms/step - loss: 0.1177 - accuracy: 0.9568 - val_loss: 0.1116 - val_accuracy: 0.9567\n",
            "Epoch 26/40\n",
            "29/29 [==============================] - 20s 705ms/step - loss: 0.1166 - accuracy: 0.9572 - val_loss: 0.1112 - val_accuracy: 0.9568\n",
            "Epoch 27/40\n",
            "29/29 [==============================] - 20s 707ms/step - loss: 0.1157 - accuracy: 0.9574 - val_loss: 0.1109 - val_accuracy: 0.9569\n",
            "Epoch 28/40\n",
            "29/29 [==============================] - 20s 708ms/step - loss: 0.1146 - accuracy: 0.9579 - val_loss: 0.1110 - val_accuracy: 0.9570\n",
            "Epoch 29/40\n",
            "29/29 [==============================] - 20s 708ms/step - loss: 0.1152 - accuracy: 0.9575 - val_loss: 0.1123 - val_accuracy: 0.9570\n",
            "Epoch 30/40\n",
            "29/29 [==============================] - 20s 711ms/step - loss: 0.1148 - accuracy: 0.9577 - val_loss: 0.1117 - val_accuracy: 0.9572\n",
            "Epoch 31/40\n",
            "29/29 [==============================] - 20s 708ms/step - loss: 0.1130 - accuracy: 0.9584 - val_loss: 0.1101 - val_accuracy: 0.9571\n",
            "Epoch 32/40\n",
            "29/29 [==============================] - 20s 710ms/step - loss: 0.1129 - accuracy: 0.9587 - val_loss: 0.1136 - val_accuracy: 0.9569\n",
            "Epoch 33/40\n",
            "29/29 [==============================] - 20s 709ms/step - loss: 0.1127 - accuracy: 0.9582 - val_loss: 0.1099 - val_accuracy: 0.9572\n",
            "Epoch 34/40\n",
            "29/29 [==============================] - 20s 710ms/step - loss: 0.1112 - accuracy: 0.9589 - val_loss: 0.1121 - val_accuracy: 0.9574\n",
            "Epoch 35/40\n",
            "29/29 [==============================] - 20s 711ms/step - loss: 0.1111 - accuracy: 0.9587 - val_loss: 0.1101 - val_accuracy: 0.9565\n",
            "Epoch 36/40\n",
            "29/29 [==============================] - 20s 707ms/step - loss: 0.1103 - accuracy: 0.9589 - val_loss: 0.1096 - val_accuracy: 0.9573\n",
            "Epoch 37/40\n",
            "29/29 [==============================] - 20s 711ms/step - loss: 0.1099 - accuracy: 0.9592 - val_loss: 0.1103 - val_accuracy: 0.9576\n",
            "Epoch 38/40\n",
            "29/29 [==============================] - 20s 709ms/step - loss: 0.1107 - accuracy: 0.9587 - val_loss: 0.1097 - val_accuracy: 0.9573\n",
            "Epoch 39/40\n",
            "29/29 [==============================] - 20s 711ms/step - loss: 0.1101 - accuracy: 0.9592 - val_loss: 0.1114 - val_accuracy: 0.9575\n",
            "Epoch 40/40\n",
            "29/29 [==============================] - 20s 708ms/step - loss: 0.1083 - accuracy: 0.9595 - val_loss: 0.1090 - val_accuracy: 0.9570\n"
          ],
          "name": "stdout"
        },
        {
          "output_type": "execute_result",
          "data": {
            "text/plain": [
              "<tensorflow.python.keras.callbacks.History at 0x7fa21b200110>"
            ]
          },
          "metadata": {
            "tags": []
          },
          "execution_count": 45
        }
      ]
    },
    {
      "cell_type": "code",
      "metadata": {
        "id": "M6IaRTIrp8Qq"
      },
      "source": [
        ""
      ],
      "execution_count": null,
      "outputs": []
    }
  ]
}